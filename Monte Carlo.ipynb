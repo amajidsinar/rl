{
 "cells": [
  {
   "cell_type": "code",
   "execution_count": 1,
   "metadata": {},
   "outputs": [],
   "source": [
    "import numpy as np\n",
    "import gym"
   ]
  },
  {
   "cell_type": "code",
   "execution_count": 2,
   "metadata": {},
   "outputs": [],
   "source": [
    "frozen_lake = gym.make('FrozenLake-v0')"
   ]
  },
  {
   "cell_type": "code",
   "execution_count": 3,
   "metadata": {},
   "outputs": [],
   "source": [
    "from utils.layer import softmax\n",
    "from utils.policy import epsilon_greedy"
   ]
  },
  {
   "cell_type": "code",
   "execution_count": 4,
   "metadata": {},
   "outputs": [],
   "source": [
    "def every_visit_monte_carlo(env, episodes, epoch, alpha, gamma):\n",
    "    \"\"\"\n",
    "    env : the environment, e.g. FronzenLake-v0 from OpenAI Gym\n",
    "    policy: policy to be evaluated\n",
    "    alpha : learning rate\n",
    "    gamma : discount factor\n",
    "    \"\"\"\n",
    "\n",
    "    for e in range(episodes):\n",
    "        nA = env.action_space.n\n",
    "        nS = env.observation_space.n\n",
    "        q_table = np.zeros((nS, nA))\n",
    "        n_table = np.zeros(1, nS)\n",
    "        state = env.reset()\n",
    "        a = []\n",
    "        for i in range(epoch):\n",
    "            action = epsilon_greedy(softmax(q_table[state]), epsilon=0.3)\n",
    "            state_next, immediate_reward, done, info = env.step(action)\n",
    "            if immediate_reward == 1:\n",
    "                a.append(\"asu\")\n",
    "            if not done:\n",
    "                q_table[state][action] += (alpha *(immediate_reward - q_table[state][action]))\n",
    "                state = state_next\n",
    "                \n",
    "    return a, q_table"
   ]
  },
  {
   "cell_type": "code",
   "execution_count": 5,
   "metadata": {},
   "outputs": [
    {
     "data": {
      "text/plain": [
       "([], array([[0., 0., 0., 0.],\n",
       "        [0., 0., 0., 0.],\n",
       "        [0., 0., 0., 0.],\n",
       "        [0., 0., 0., 0.],\n",
       "        [0., 0., 0., 0.],\n",
       "        [0., 0., 0., 0.],\n",
       "        [0., 0., 0., 0.],\n",
       "        [0., 0., 0., 0.],\n",
       "        [0., 0., 0., 0.],\n",
       "        [0., 0., 0., 0.],\n",
       "        [0., 0., 0., 0.],\n",
       "        [0., 0., 0., 0.],\n",
       "        [0., 0., 0., 0.],\n",
       "        [0., 0., 0., 0.],\n",
       "        [0., 0., 0., 0.],\n",
       "        [0., 0., 0., 0.]]))"
      ]
     },
     "execution_count": 5,
     "metadata": {},
     "output_type": "execute_result"
    }
   ],
   "source": [
    "monte_carlo(frozen_lake, episodes=1000, epoch=100, alpha=1, gamma=3)"
   ]
  },
  {
   "cell_type": "code",
   "execution_count": 26,
   "metadata": {},
   "outputs": [],
   "source": [
    "def first_visit_monte_carlo(env, episodes, epoch, alpha, gamma):\n",
    "    \"\"\"\n",
    "    env : the environment, e.g. FronzenLake-v0 from OpenAI Gym\n",
    "    policy: policy to be evaluated\n",
    "    alpha : learning rate\n",
    "    gamma : discount factor\n",
    "    \"\"\"\n",
    "\n",
    "    for e in range(episodes):\n",
    "        nA = env.action_space.n\n",
    "        nS = env.observation_space.n\n",
    "        q_table = np.zeros((nS, nA))\n",
    "        n_table = np.zeros((nS, ))\n",
    "        state = env.reset()\n",
    "        a = []\n",
    "        for i in range(epoch):\n",
    "            action = epsilon_greedy(softmax(q_table[state]), epsilon=0.3)\n",
    "            state_next, immediate_reward, done, info = env.step(action)\n",
    "            if immediate_reward == 1:\n",
    "                a.append(\"asu\")\n",
    "            if not done and n_table[state]<1 :\n",
    "                q_table[state][action] += (alpha *(immediate_reward - q_table[state][action]))\n",
    "                state = state_next\n",
    "                \n",
    "    return a, q_table"
   ]
  },
  {
   "cell_type": "code",
   "execution_count": 27,
   "metadata": {},
   "outputs": [
    {
     "data": {
      "text/plain": [
       "([], array([[0., 0., 0., 0.],\n",
       "        [0., 0., 0., 0.],\n",
       "        [0., 0., 0., 0.],\n",
       "        [0., 0., 0., 0.],\n",
       "        [0., 0., 0., 0.],\n",
       "        [0., 0., 0., 0.],\n",
       "        [0., 0., 0., 0.],\n",
       "        [0., 0., 0., 0.],\n",
       "        [0., 0., 0., 0.],\n",
       "        [0., 0., 0., 0.],\n",
       "        [0., 0., 0., 0.],\n",
       "        [0., 0., 0., 0.],\n",
       "        [0., 0., 0., 0.],\n",
       "        [0., 0., 0., 0.],\n",
       "        [0., 0., 0., 0.],\n",
       "        [0., 0., 0., 0.]]))"
      ]
     },
     "execution_count": 27,
     "metadata": {},
     "output_type": "execute_result"
    }
   ],
   "source": [
    "first_visit_monte_carlo(frozen_lake, episodes=1000, epoch=100, alpha=1, gamma=2)"
   ]
  },
  {
   "cell_type": "code",
   "execution_count": null,
   "metadata": {},
   "outputs": [],
   "source": []
  }
 ],
 "metadata": {
  "kernelspec": {
   "display_name": "Python 3",
   "language": "python",
   "name": "python3"
  },
  "language_info": {
   "codemirror_mode": {
    "name": "ipython",
    "version": 3
   },
   "file_extension": ".py",
   "mimetype": "text/x-python",
   "name": "python",
   "nbconvert_exporter": "python",
   "pygments_lexer": "ipython3",
   "version": "3.6.5"
  }
 },
 "nbformat": 4,
 "nbformat_minor": 2
}
